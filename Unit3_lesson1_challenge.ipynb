{
 "cells": [
  {
   "cell_type": "code",
   "execution_count": 1,
   "metadata": {},
   "outputs": [],
   "source": [
    "import numpy as np\n",
    "import pandas as pd\n",
    "import matplotlib.pyplot as plt\n",
    "import scipy\n",
    "%matplotlib inline"
   ]
  },
  {
   "cell_type": "code",
   "execution_count": 9,
   "metadata": {},
   "outputs": [],
   "source": [
    "x = [184, 134, 243, 186, 122, 197, 294, 382, 102, 264, \n",
    "     205, 110, 307, 110, 397, 153, 190, 192, 210, 403,\n",
    "     164, 198, 204, 253, 234, 190, 182, 401, 376, 102]\n",
    "\n",
    "y = [18, 34, 43, 36, 22, 9, 29, 22, 10, 24, \n",
    "     20, 10, 17, 51, 7, 13, 19, 12, 21, 22,\n",
    "     16, 18, 4, 23, 34, 19, 14, 11, 37, 42]\n",
    "\n",
    "z = [1, 0, 0, 0, 1, 1, 0, 1, 1, 0,\n",
    "      0, 1, 1, 0, 1, 1, 0, 1, 1, 1,\n",
    "      1, 1, 1, 1, 0, 0, 1, 1, 0, 0]\n"
   ]
  },
  {
   "cell_type": "code",
   "execution_count": 45,
   "metadata": {},
   "outputs": [],
   "source": [
    "def nearestPoint(array_x, array_y, classify, x, y):\n",
    "    distances = []\n",
    "    for i in range(len(array_x)):\n",
    "        distance = np.sqrt(((y-array_y[i])**2) + ((x-array_x[i])**2))\n",
    "        distances.append(distance)\n",
    "    dist_min = min(distances)\n",
    "    dist_index = distances.index(dist_min)\n",
    "    return classify[dist_index]\n",
    "    "
   ]
  },
  {
   "cell_type": "code",
   "execution_count": 46,
   "metadata": {},
   "outputs": [
    {
     "data": {
      "text/plain": [
       "0"
      ]
     },
     "execution_count": 46,
     "metadata": {},
     "output_type": "execute_result"
    }
   ],
   "source": [
    "nearestPoint(x, y, z, 24, 190)"
   ]
  },
  {
   "cell_type": "code",
   "execution_count": null,
   "metadata": {},
   "outputs": [],
   "source": []
  }
 ],
 "metadata": {
  "kernelspec": {
   "display_name": "Python 3",
   "language": "python",
   "name": "python3"
  },
  "language_info": {
   "codemirror_mode": {
    "name": "ipython",
    "version": 3
   },
   "file_extension": ".py",
   "mimetype": "text/x-python",
   "name": "python",
   "nbconvert_exporter": "python",
   "pygments_lexer": "ipython3",
   "version": "3.5.1"
  }
 },
 "nbformat": 4,
 "nbformat_minor": 2
}
